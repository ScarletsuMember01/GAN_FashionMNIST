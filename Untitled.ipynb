{
 "cells": [
  {
   "cell_type": "code",
   "execution_count": 5,
   "id": "91e48047-5183-4a89-9c15-7d9f52b62a69",
   "metadata": {},
   "outputs": [],
   "source": [
    "import tensorflow as tf"
   ]
  },
  {
   "cell_type": "code",
   "execution_count": 2,
   "id": "790b11cc-17ad-4458-aae3-aedd96e380f0",
   "metadata": {},
   "outputs": [],
   "source": [
    "import tensorflow_datasets as tfds\n",
    "from matplotlib import pyplot as plt\n",
    "import numpy as np\n",
    "\n",
    "#For GPU\n",
    "# pip install tensorflow-gpu\n",
    "# gpus = tf.config.experimental.list_physical_devices('GPU')\n",
    "# for gpu in gpus:\n",
    "    # tf.config.experimental.set_memory_growth(gpu, True)"
   ]
  },
  {
   "cell_type": "code",
   "execution_count": 6,
   "id": "528391de-0b5b-4e33-a9de-18c5b91a0223",
   "metadata": {},
   "outputs": [],
   "source": [
    "fashion = tfds.load('fashion_mnist', split = 'train')"
   ]
  },
  {
   "cell_type": "code",
   "execution_count": 7,
   "id": "d014b6ce-2d41-4cf6-bf24-9ba19976bd60",
   "metadata": {},
   "outputs": [],
   "source": [
    "dataiterator = fashion.as_numpy_iterator()"
   ]
  },
  {
   "cell_type": "code",
   "execution_count": 8,
   "id": "4063e759-ae98-4d12-97b6-6aa18c61fc3d",
   "metadata": {},
   "outputs": [],
   "source": [
    "def scale_images(data):\n",
    "    image = data['image']\n",
    "    return image / 255"
   ]
  },
  {
   "cell_type": "code",
   "execution_count": 9,
   "id": "5c4a5baf-e5a9-49e4-b1da-afa28d5670fd",
   "metadata": {},
   "outputs": [],
   "source": [
    "ds = tfds.load('fashion_mnist', split='train')"
   ]
  },
  {
   "cell_type": "code",
   "execution_count": 10,
   "id": "6f02613c-0e2e-455e-b4d2-d82debf6e74b",
   "metadata": {},
   "outputs": [],
   "source": [
    "ds = ds.map(scale_images)\n",
    "ds = ds.cache()\n",
    "ds = ds.shuffle(60000)\n",
    "ds = ds.batch(128)\n",
    "ds = ds.prefetch(64)"
   ]
  },
  {
   "cell_type": "code",
   "execution_count": 11,
   "id": "4e9cc127-20dd-4c9d-89f9-8eefd7d120cc",
   "metadata": {},
   "outputs": [
    {
     "data": {
      "text/plain": [
       "(128, 28, 28, 1)"
      ]
     },
     "execution_count": 11,
     "metadata": {},
     "output_type": "execute_result"
    }
   ],
   "source": [
    "ds.as_numpy_iterator().next().shape"
   ]
  },
  {
   "cell_type": "code",
   "execution_count": 12,
   "id": "d96582a8-5173-4d48-b72f-290be13c7d28",
   "metadata": {},
   "outputs": [],
   "source": [
    "from tensorflow.keras.models import Sequential\n",
    "from tensorflow.keras.layers import Conv2D, Dense, Flatten, Reshape, LeakyReLU, Dropout, UpSampling2D"
   ]
  },
  {
   "cell_type": "code",
   "execution_count": 13,
   "id": "fad259c9-d1e1-4be6-bed7-df10dec3815a",
   "metadata": {},
   "outputs": [],
   "source": [
    "def build_generator():\n",
    "    model = Sequential()\n",
    "    model.add(Dense(7*7*128, input_dim=128))\n",
    "    model.add(LeakyReLU(0.2))\n",
    "    model.add(Reshape(((7,7,128))))\n",
    "\n",
    "    model.add(UpSampling2D())\n",
    "    model.add(Conv2D(128, 5, padding=\"same\"))\n",
    "    model.add(LeakyReLU(0.2))\n",
    "\n",
    "    model.add(UpSampling2D())\n",
    "    model.add(Conv2D(128, 5, padding=\"same\"))\n",
    "    model.add(LeakyReLU(0.2))\n",
    "\n",
    "    model.add(Conv2D(128, 4, padding=\"same\"))\n",
    "    model.add(LeakyReLU(0.2))\n",
    "    \n",
    "    model.add(Conv2D(128, 4, padding=\"same\"))\n",
    "    model.add(LeakyReLU(0.2))\n",
    "\n",
    "    model.add(Conv2D(1, 4, padding=\"same\", activation=\"sigmoid\"))\n",
    "    \n",
    "    return model"
   ]
  },
  {
   "cell_type": "code",
   "execution_count": 14,
   "id": "6427944a-085a-4c6a-9f1c-c66d166ecca1",
   "metadata": {},
   "outputs": [],
   "source": [
    "test_model = build_generator()"
   ]
  },
  {
   "cell_type": "code",
   "execution_count": 15,
   "id": "5eeb87e1-8e6b-466a-9c90-b544242f6978",
   "metadata": {
    "scrolled": true
   },
   "outputs": [
    {
     "name": "stdout",
     "output_type": "stream",
     "text": [
      "Model: \"sequential\"\n",
      "_________________________________________________________________\n",
      " Layer (type)                Output Shape              Param #   \n",
      "=================================================================\n",
      " dense (Dense)               (None, 6272)              809088    \n",
      "                                                                 \n",
      " leaky_re_lu (LeakyReLU)     (None, 6272)              0         \n",
      "                                                                 \n",
      " reshape (Reshape)           (None, 7, 7, 128)         0         \n",
      "                                                                 \n",
      " up_sampling2d (UpSampling2D  (None, 14, 14, 128)      0         \n",
      " )                                                               \n",
      "                                                                 \n",
      " conv2d (Conv2D)             (None, 14, 14, 128)       409728    \n",
      "                                                                 \n",
      " leaky_re_lu_1 (LeakyReLU)   (None, 14, 14, 128)       0         \n",
      "                                                                 \n",
      " up_sampling2d_1 (UpSampling  (None, 28, 28, 128)      0         \n",
      " 2D)                                                             \n",
      "                                                                 \n",
      " conv2d_1 (Conv2D)           (None, 28, 28, 128)       409728    \n",
      "                                                                 \n",
      " leaky_re_lu_2 (LeakyReLU)   (None, 28, 28, 128)       0         \n",
      "                                                                 \n",
      " conv2d_2 (Conv2D)           (None, 28, 28, 128)       262272    \n",
      "                                                                 \n",
      " leaky_re_lu_3 (LeakyReLU)   (None, 28, 28, 128)       0         \n",
      "                                                                 \n",
      " conv2d_3 (Conv2D)           (None, 28, 28, 128)       262272    \n",
      "                                                                 \n",
      " leaky_re_lu_4 (LeakyReLU)   (None, 28, 28, 128)       0         \n",
      "                                                                 \n",
      " conv2d_4 (Conv2D)           (None, 28, 28, 1)         2049      \n",
      "                                                                 \n",
      "=================================================================\n",
      "Total params: 2,155,137\n",
      "Trainable params: 2,155,137\n",
      "Non-trainable params: 0\n",
      "_________________________________________________________________\n"
     ]
    }
   ],
   "source": [
    "test_model.summary()"
   ]
  },
  {
   "cell_type": "code",
   "execution_count": 29,
   "id": "fcd72941-b200-43c4-b05a-48d909040cb2",
   "metadata": {},
   "outputs": [
    {
     "name": "stdout",
     "output_type": "stream",
     "text": [
      "1/1 [==============================] - 0s 67ms/step\n"
     ]
    }
   ],
   "source": []
  },
  {
   "cell_type": "code",
   "execution_count": 17,
   "id": "7944e76f-c1e4-40d7-be90-d5a166199fa4",
   "metadata": {},
   "outputs": [
    {
     "data": {
      "text/plain": [
       "(4, 28, 28, 1)"
      ]
     },
     "execution_count": 17,
     "metadata": {},
     "output_type": "execute_result"
    }
   ],
   "source": [
    "img.shape"
   ]
  },
  {
   "cell_type": "code",
   "execution_count": 33,
   "id": "8a8c2a38-4d09-4bbb-ad5f-2af546df6595",
   "metadata": {},
   "outputs": [
    {
     "name": "stdout",
     "output_type": "stream",
     "text": [
      "1/1 [==============================] - 0s 71ms/step\n"
     ]
    },
    {
     "data": {
      "image/png": "[encoded data removed]",
      "text/plain": [
       "<Figure size 2000x2000 with 4 Axes>"
      ]
     },
     "metadata": {},
     "output_type": "display_data"
    }
   ],
   "source": [
    "img = test_model.predict(np.random.randn(4,128,1))\n",
    "fig, ax = plt.subplots(ncols=4, figsize=(20,20))\n",
    "for idx, img in enumerate(img):\n",
    "    ax[idx].imshow(np.squeeze(img))\n",
    "    ax[idx].title.set_text(idx)"
   ]
  },
  {
   "cell_type": "code",
   "execution_count": 43,
   "id": "f855db3d-8cc5-4170-b24d-1d9df2bed254",
   "metadata": {},
   "outputs": [],
   "source": [
    "def build_discriminator():\n",
    "    model = Sequential()\n",
    "    \n",
    "    model.add(Conv2D(32, 5, input_shape = (28,28,1)))\n",
    "    model.add(LeakyReLU(0.2))\n",
    "    model.add(Dropout(0.4))\n",
    "\n",
    "    model.add(Conv2D(64, 5))\n",
    "    model.add(LeakyReLU(0.2))\n",
    "    model.add(Dropout(0.4))    \n",
    "\n",
    "    model.add(Conv2D(128,5))\n",
    "    model.add(LeakyReLU(0.2))\n",
    "    model.add(Dropout(0.4))\n",
    "\n",
    "    model.add(Conv2D(256,5))\n",
    "    model.add(LeakyReLU(0.2))\n",
    "    model.add(Dropout(0.4))\n",
    "\n",
    "    model.add(Flatten())\n",
    "    model.add(Dropout(0.4))\n",
    "    model.add(Dense(1, activation=\"sigmoid\"))\n",
    "    \n",
    "    return model"
   ]
  },
  {
   "cell_type": "code",
   "execution_count": 44,
   "id": "4b05e695-a98a-4cc7-bed0-20affa2025b4",
   "metadata": {},
   "outputs": [
    {
     "name": "stdout",
     "output_type": "stream",
     "text": [
      "Model: \"sequential_6\"\n",
      "_________________________________________________________________\n",
      " Layer (type)                Output Shape              Param #   \n",
      "=================================================================\n",
      " conv2d_15 (Conv2D)          (None, 24, 24, 32)        832       \n",
      "                                                                 \n",
      " leaky_re_lu_15 (LeakyReLU)  (None, 24, 24, 32)        0         \n",
      "                                                                 \n",
      " dropout_10 (Dropout)        (None, 24, 24, 32)        0         \n",
      "                                                                 \n",
      " conv2d_16 (Conv2D)          (None, 20, 20, 64)        51264     \n",
      "                                                                 \n",
      " leaky_re_lu_16 (LeakyReLU)  (None, 20, 20, 64)        0         \n",
      "                                                                 \n",
      " dropout_11 (Dropout)        (None, 20, 20, 64)        0         \n",
      "                                                                 \n",
      " conv2d_17 (Conv2D)          (None, 16, 16, 128)       204928    \n",
      "                                                                 \n",
      " leaky_re_lu_17 (LeakyReLU)  (None, 16, 16, 128)       0         \n",
      "                                                                 \n",
      " dropout_12 (Dropout)        (None, 16, 16, 128)       0         \n",
      "                                                                 \n",
      " conv2d_18 (Conv2D)          (None, 12, 12, 256)       819456    \n",
      "                                                                 \n",
      " leaky_re_lu_18 (LeakyReLU)  (None, 12, 12, 256)       0         \n",
      "                                                                 \n",
      " dropout_13 (Dropout)        (None, 12, 12, 256)       0         \n",
      "                                                                 \n",
      " flatten (Flatten)           (None, 36864)             0         \n",
      "                                                                 \n",
      " dropout_14 (Dropout)        (None, 36864)             0         \n",
      "                                                                 \n",
      " dense_1 (Dense)             (None, 1)                 36865     \n",
      "                                                                 \n",
      "=================================================================\n",
      "Total params: 1,113,345\n",
      "Trainable params: 1,113,345\n",
      "Non-trainable params: 0\n",
      "_________________________________________________________________\n"
     ]
    }
   ],
   "source": [
    "discriminator = build_discriminator()\n",
    "discriminator.summary()"
   ]
  },
  {
   "cell_type": "code",
   "execution_count": 45,
   "id": "1081dc01-5037-47fb-bfdc-1e095ba64175",
   "metadata": {},
   "outputs": [
    {
     "name": "stdout",
     "output_type": "stream",
     "text": [
      "1/1 [==============================] - 0s 42ms/step\n",
      "1/1 [==============================] - 0s 134ms/step\n"
     ]
    },
    {
     "data": {
      "text/plain": [
       "array([[0.5039205 ],\n",
       "       [0.5041331 ],\n",
       "       [0.5041775 ],\n",
       "       [0.50400376]], dtype=float32)"
      ]
     },
     "execution_count": 45,
     "metadata": {},
     "output_type": "execute_result"
    }
   ],
   "source": [
    "img = test_model.predict(np.random.randn(4,128,1))\n",
    "discriminator.predict(img)"
   ]
  },
  {
   "cell_type": "code",
   "execution_count": 46,
   "id": "9f6a9d25-31be-4396-afad-22c8eee9a06a",
   "metadata": {},
   "outputs": [],
   "source": [
    "from tensorflow.keras.optimizers import Adam\n",
    "from tensorflow.keras.losses import BinaryCrossentropy"
   ]
  },
  {
   "cell_type": "code",
   "execution_count": 47,
   "id": "32360605-8376-4a3c-a75c-b56cab6f66a4",
   "metadata": {},
   "outputs": [],
   "source": [
    "g_opt = Adam(learning_rate=0.0001)\n",
    "d_opt = Adam(learning_rate=0.00001)\n",
    "g_loss = BinaryCrossentropy()\n",
    "d_loss = BinaryCrossentropy()"
   ]
  },
  {
   "cell_type": "code",
   "execution_count": 48,
   "id": "f15eceb0-1e9a-405d-a8a4-5adfbfa1f9d9",
   "metadata": {},
   "outputs": [],
   "source": [
    "from tensorflow.keras.models import Model"
   ]
  },
  {
   "cell_type": "code",
   "execution_count": 74,
   "id": "2cbc55f0-d6eb-4a7b-ad10-158e581f8fae",
   "metadata": {},
   "outputs": [],
   "source": [
    "class FashionGAN(Model):\n",
    "    def __init__(self, generator, discriminator, *args, **kwargs):\n",
    "        super().__init__(*args, **kwargs)\n",
    "        self.generator = generator\n",
    "        self.discriminator = discriminator\n",
    "        \n",
    "    def compile(self, g_opt, d_opt, g_loss, d_loss, *args, **kwargs):\n",
    "        super().compile(*args, **kwargs)\n",
    "        self.g_opt = g_opt\n",
    "        self.d_opt = d_opt\n",
    "        self.g_loss = g_loss\n",
    "        self.d_loss = d_loss\n",
    "        \n",
    "    def train_step(self, batch):\n",
    "        real_images = batch\n",
    "        fake_images = self.generator(tf.random.normal((128,128,1)), training=False)\n",
    "        with tf.GradientTape() as d_tape:\n",
    "            #Create fake & real image\n",
    "            yhat_real = self.discriminator(real_images, training=True)\n",
    "            yhat_fake = self.discriminator(fake_images, training=True)\n",
    "            yhat_realfake = tf.concat([yhat_real, yhat_fake], axis=0)\n",
    "\n",
    "            #Labels data\n",
    "            y_realfake = tf.concat([tf.zeros_like(yhat_real), tf.ones_like(yhat_fake)], axis=0)\n",
    "\n",
    "            #Adding noises\n",
    "            noise_real = 0.15*tf.random.uniform(tf.shape(yhat_real))\n",
    "            noise_fake = -0.15*tf.random.uniform(tf.shape(yhat_fake))\n",
    "            y_realfake += tf.concat([noise_real, noise_fake], axis=0)\n",
    "\n",
    "            #Loss\n",
    "            total_d_loss = self.d_loss(y_realfake, yhat_realfake)\n",
    "\n",
    "        #BackPropagation\n",
    "        dgrad = d_tape.gradient(total_d_loss, self.discriminator.trainable_variables)\n",
    "        self.d_opt.apply_gradients(zip(dgrad, self.discriminator.trainable_variables))\n",
    "\n",
    "        with tf.GradientTape() as g_tape:\n",
    "            #Generate new images\n",
    "            gen_images = self.generator(tf.random.normal((128,128,1)), training=True)\n",
    "\n",
    "            #Predited labels\n",
    "            predicted_labels = self.discriminator(gen_images, training=False)\n",
    "\n",
    "            #Loss\n",
    "            total_g_loss = self.g_loss(tf.zeros_like(predicted_labels), predicted_labels)\n",
    "\n",
    "        #BackPropagation\n",
    "        ggrad = g_tape.gradient(total_g_loss, self.generator.trainable_variables)\n",
    "        self.g_opt.apply_gradients(zip(ggrad, self.generator.trainable_variables))\n",
    "\n",
    "        return {\"d_loss\":total_d_loss, \"g_loss\":total_g_loss}"
   ]
  },
  {
   "cell_type": "code",
   "execution_count": 75,
   "id": "363ed954-d98a-49b2-8048-e691653c1291",
   "metadata": {},
   "outputs": [],
   "source": [
    "fashgan = FashionGAN(test_model, discriminator)"
   ]
  },
  {
   "cell_type": "code",
   "execution_count": 76,
   "id": "011332c2-c4ce-4f6c-bab0-f8dff1dc5add",
   "metadata": {},
   "outputs": [],
   "source": [
    "fashgan.compile(g_opt, d_opt, g_loss, d_loss)"
   ]
  },
  {
   "cell_type": "code",
   "execution_count": 56,
   "id": "8e72a349-273b-4074-a294-dbfa383178f8",
   "metadata": {},
   "outputs": [],
   "source": [
    "import os\n",
    "from tensorflow.keras.preprocessing.image import array_to_img\n",
    "from tensorflow.keras.callbacks import Callback"
   ]
  },
  {
   "cell_type": "code",
   "execution_count": null,
   "id": "9646cf77-b9d9-4796-93fe-bf9d02a42b03",
   "metadata": {},
   "outputs": [
    {
     "name": "stdout",
     "output_type": "stream",
     "text": [
      "Epoch 1/20\n",
      "150/469 [========>.....................] - ETA: 1:28:01 - d_loss: 0.6439 - g_loss: 0.9923"
     ]
    }
   ],
   "source": [
    "hist = fashgan.fit(ds, epochs=20) #DO 2000 EPOCH"
   ]
  },
  {
   "cell_type": "code",
   "execution_count": null,
   "id": "39273926-9300-4fab-841e-5490166e8fbd",
   "metadata": {},
   "outputs": [],
   "source": [
    "#TO SHOW RESULT\n",
    "# imgs = test_model.predict(tf.random.normal((16,128,1)))\n",
    "# fig, ax = plt.subplots(ncols=4, nrows=4, figsize=(20,20))\n",
    "# for r in range(4):\n",
    "#     for c in range(4):\n",
    "#         ax[r][c].imshow(imgs[(r+1)*(c+1)-1])"
   ]
  },
  {
   "cell_type": "code",
   "execution_count": null,
   "id": "f6cfff6f-911b-4793-a629-77898a3897e7",
   "metadata": {},
   "outputs": [],
   "source": []
  },
  {
   "cell_type": "code",
   "execution_count": null,
   "id": "a5a7ebf7-df51-42a8-a6da-ffcd5dc4ca7a",
   "metadata": {},
   "outputs": [],
   "source": []
  }
 ],
 "metadata": {
  "kernelspec": {
   "display_name": "Python 3 (ipykernel)",
   "language": "python",
   "name": "python3"
  },
  "language_info": {
   "codemirror_mode": {
    "name": "ipython",
    "version": 3
   },
   "file_extension": ".py",
   "mimetype": "text/x-python",
   "name": "python",
   "nbconvert_exporter": "python",
   "pygments_lexer": "ipython3",
   "version": "3.10.13"
  }
 },
 "nbformat": 4,
 "nbformat_minor": 5
}
